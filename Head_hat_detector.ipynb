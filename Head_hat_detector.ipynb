{
  "nbformat": 4,
  "nbformat_minor": 0,
  "metadata": {
    "colab": {
      "name": "Head hat detector",
      "provenance": []
    },
    "kernelspec": {
      "name": "python3",
      "display_name": "Python 3"
    },
    "language_info": {
      "name": "python"
    },
    "accelerator": "GPU"
  },
  "cells": [
    {
      "cell_type": "code",
      "metadata": {
        "id": "4qOfZCHAhHX1"
      },
      "source": [
        " from google.colab import drive\n",
        "drive.mount('/content/gdrive')"
      ],
      "execution_count": null,
      "outputs": []
    },
    {
      "cell_type": "code",
      "metadata": {
        "id": "RZBKTtJ_h61A"
      },
      "source": [
        "import os"
      ],
      "execution_count": null,
      "outputs": []
    },
    {
      "cell_type": "code",
      "metadata": {
        "id": "mgQ_Eq0ah7MD"
      },
      "source": [
        "!git clone https://github.com/AlexeyAB/darknet"
      ],
      "execution_count": null,
      "outputs": []
    },
    {
      "cell_type": "code",
      "metadata": {
        "id": "EdLcCE3Qibus"
      },
      "source": [
        "!unzip /content/gdrive/MyDrive/Helmet_dataset/test.zip -d /content/darknet/data/train"
      ],
      "execution_count": null,
      "outputs": []
    },
    {
      "cell_type": "code",
      "metadata": {
        "id": "NVCiVslNh9FU"
      },
      "source": [
        ""
      ],
      "execution_count": null,
      "outputs": []
    },
    {
      "cell_type": "code",
      "metadata": {
        "id": "HF7O1Y9YkKT2"
      },
      "source": [
        "!echo -e 'classes=2\\n train=/content/darknet/data/train.txt\\n valid=/content/darknet/data/test.txt\\n names=/content/darknet/data/classes.names\\n backup=/content/gdrive/MyDrive/Backup'>/content/darknet/data/image_data.data"
      ],
      "execution_count": null,
      "outputs": []
    },
    {
      "cell_type": "code",
      "metadata": {
        "id": "dN2kAOi_h9LB"
      },
      "source": [
        "!echo -e 'helmet\\nhead' > /content/darknet/data/classes.names"
      ],
      "execution_count": null,
      "outputs": []
    },
    {
      "cell_type": "code",
      "metadata": {
        "id": "CLorTXCemEnv"
      },
      "source": [
        "import glob\n",
        "images_list=glob.glob('/content/darknet/data/train/Images/*.png')\n"
      ],
      "execution_count": null,
      "outputs": []
    },
    {
      "cell_type": "code",
      "metadata": {
        "id": "5Gj6OPS2m5t-"
      },
      "source": [
        "images_list_test=images_list[:int(len(images_list)*0.02)]\n",
        "images_list=images_list[int(len(images_list)*0.02):]"
      ],
      "execution_count": null,
      "outputs": []
    },
    {
      "cell_type": "code",
      "metadata": {
        "id": "hr4XPJ9O1Izp"
      },
      "source": [
        "with open('/content/darknet/data/train.txt','w') as f:\n",
        "  f.write('\\n'.join(images_list))"
      ],
      "execution_count": null,
      "outputs": []
    },
    {
      "cell_type": "code",
      "metadata": {
        "id": "x2oHs3sH1oD1"
      },
      "source": [
        "with open('/content/darknet/data/test.txt','w') as f:\n",
        "  f.write('\\n'.join(images_list_test))"
      ],
      "execution_count": null,
      "outputs": []
    },
    {
      "cell_type": "code",
      "metadata": {
        "id": "3L_nzlBcnF5f"
      },
      "source": [
        "os.chdir('/content/darknet')\n",
        "!make\n"
      ],
      "execution_count": null,
      "outputs": []
    },
    {
      "cell_type": "code",
      "metadata": {
        "id": "gjSvoMHecXaW"
      },
      "source": [
        ""
      ],
      "execution_count": null,
      "outputs": []
    },
    {
      "cell_type": "code",
      "metadata": {
        "id": "cPQUmqZyrkgU"
      },
      "source": [
        "!./darknet"
      ],
      "execution_count": null,
      "outputs": []
    },
    {
      "cell_type": "code",
      "metadata": {
        "id": "4XTp-HDwrlYL"
      },
      "source": [
        "!cp /content/darknet/cfg/yolov4.cfg /content/darknet/cfg/yolov4-train.cfg"
      ],
      "execution_count": null,
      "outputs": []
    },
    {
      "cell_type": "code",
      "metadata": {
        "id": "6Nzq9Gbht2vS"
      },
      "source": [
        "!cp /content/darknet/cfg/yolov4.cfg /content/darknet/cfg/yolov4-test.cfg"
      ],
      "execution_count": null,
      "outputs": []
    },
    {
      "cell_type": "code",
      "metadata": {
        "id": "mYUhYZA8u2R9"
      },
      "source": [
        "%cd /content/darknet\n",
        "!wget https://github.com/AlexeyAB/darknet/releases/download/darknet_yolo_v3_optimal/yolov4.conv.137"
      ],
      "execution_count": null,
      "outputs": []
    },
    {
      "cell_type": "code",
      "metadata": {
        "id": "rOxeB_VPucvm"
      },
      "source": [
        "!./darknet de"
      ],
      "execution_count": null,
      "outputs": []
    },
    {
      "cell_type": "code",
      "metadata": {
        "id": "d_6ELMgkxANv"
      },
      "source": [
        "!./darknet detector train data/image_data.data cfg/yolov4-train.cfg yolov4.conv.137 -dont_show"
      ],
      "execution_count": null,
      "outputs": []
    },
    {
      "cell_type": "code",
      "metadata": {
        "id": "aK77PI-BcZFu"
      },
      "source": [
        ""
      ],
      "execution_count": null,
      "outputs": []
    },
    {
      "cell_type": "code",
      "metadata": {
        "id": "rUKWlXrVulB7"
      },
      "source": [
        "!./darknet detector train data/image_data.data cfg/yolov4-train.cfg /content/gdrive/MyDrive/Backup/yolov4-train_last.weights -dont_show"
      ],
      "execution_count": null,
      "outputs": []
    },
    {
      "cell_type": "code",
      "metadata": {
        "id": "IDWWlkY7dM2h"
      },
      "source": [
        "%cd /content/darknet"
      ],
      "execution_count": null,
      "outputs": []
    },
    {
      "cell_type": "code",
      "metadata": {
        "id": "AUHQVNqScbPd"
      },
      "source": [
        "!./darknet detector test data/image_data.data cfg/yolov4-train.cfg /content/gdrive/MyDrive/Backup/yolov4-train_final.weights -ext_output -dont_show -out result.txt < data/train.txt"
      ],
      "execution_count": null,
      "outputs": []
    }
  ]
}
